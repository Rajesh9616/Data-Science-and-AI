{
 "cells": [
  {
   "cell_type": "code",
   "execution_count": 2,
   "metadata": {},
   "outputs": [],
   "source": [
    "import pandas as pd\n",
    "import numpy as np"
   ]
  },
  {
   "cell_type": "code",
   "execution_count": 3,
   "metadata": {},
   "outputs": [],
   "source": [
    "# importing check point 1 data \n",
    "# Setitng values in float insted of scientific notation\n",
    "pd.options.display.float_format = '{:20,.4f}'.format\n",
    "\n",
    "companies = pd.read_csv('companies.txt',sep='\\t',encoding='iso-8859-1')\n",
    "round2 = pd.read_csv('rounds2.csv',encoding='iso-8859-1')\n",
    "#Check pont 1-4\n",
    "#converting company_permalinks to upper and encoding\n",
    "round2['company_permalink'] = round2['company_permalink'].str.encode('utf-8').str.decode('ascii','ignore')\n",
    "round2['company_permalink'] = round2['company_permalink'].str.upper()\n",
    "#converting companies permalink to upper\n",
    "#companies.columns\n",
    "companies['permalink'] = companies['permalink'].str.encode('utf-8').str.decode('ascii','ignore')\n",
    "companies['permalink'] = companies['permalink'].str.upper()\n",
    "#Rename companies column before merge\n",
    "companies = companies.rename(columns={'permalink':'company_permalink'})\n",
    "master_frame = pd.merge(companies, round2, on='company_permalink',how='left')"
   ]
  },
  {
   "cell_type": "code",
   "execution_count": 4,
   "metadata": {},
   "outputs": [
    {
     "name": "stdout",
     "output_type": "stream",
     "text": [
      "<class 'pandas.core.frame.DataFrame'>\n",
      "Int64Index: 114949 entries, 0 to 114948\n",
      "Data columns (total 15 columns):\n",
      "company_permalink          114949 non-null object\n",
      "name                       114948 non-null object\n",
      "homepage_url               108815 non-null object\n",
      "category_list              111539 non-null object\n",
      "status                     114949 non-null object\n",
      "country_code               106271 non-null object\n",
      "state_code                 104003 non-null object\n",
      "region                     104782 non-null object\n",
      "city                       104785 non-null object\n",
      "founded_at                 94428 non-null object\n",
      "funding_round_permalink    114949 non-null object\n",
      "funding_round_type         114949 non-null object\n",
      "funding_round_code         31140 non-null object\n",
      "funded_at                  114949 non-null object\n",
      "raised_amount_usd          94959 non-null float64\n",
      "dtypes: float64(1), object(14)\n",
      "memory usage: 14.0+ MB\n"
     ]
    }
   ],
   "source": [
    "master_frame.info()"
   ]
  },
  {
   "cell_type": "code",
   "execution_count": 5,
   "metadata": {},
   "outputs": [
    {
     "data": {
      "text/plain": [
       "count            94,959.0000\n",
       "mean         10,426,869.3345\n",
       "std         114,821,247.9849\n",
       "min                   0.0000\n",
       "25%             322,500.0000\n",
       "50%           1,680,511.0000\n",
       "75%           7,000,000.0000\n",
       "max      21,271,935,000.0000\n",
       "Name: raised_amount_usd, dtype: float64"
      ]
     },
     "execution_count": 5,
     "metadata": {},
     "output_type": "execute_result"
    }
   ],
   "source": [
    "master_frame['raised_amount_usd'].describe()"
   ]
  },
  {
   "cell_type": "code",
   "execution_count": 6,
   "metadata": {},
   "outputs": [
    {
     "data": {
      "text/plain": [
       "funding_round_type\n",
       "post_ipo_debt               168,704,571.8224\n",
       "post_ipo_equity              82,182,493.8710\n",
       "secondary_market             79,649,630.1000\n",
       "private_equity               73,308,593.0294\n",
       "undisclosed                  19,242,370.2257\n",
       "debt_financing               17,043,526.0230\n",
       "venture                      11,748,949.1295\n",
       "grant                         4,300,576.3395\n",
       "convertible_note              1,453,438.5432\n",
       "product_crowdfunding          1,363,131.0699\n",
       "angel                           958,694.4698\n",
       "seed                            719,817.9969\n",
       "equity_crowdfunding             538,368.2109\n",
       "non_equity_assistance           411,203.0548\n",
       "Name: raised_amount_usd, dtype: float64"
      ]
     },
     "execution_count": 6,
     "metadata": {},
     "output_type": "execute_result"
    }
   ],
   "source": [
    "# averages\n",
    "master_frame.groupby('funding_round_type')['raised_amount_usd'].mean().sort_values(ascending=False)"
   ]
  },
  {
   "cell_type": "code",
   "execution_count": 7,
   "metadata": {
    "scrolled": true
   },
   "outputs": [
    {
     "data": {
      "text/plain": [
       "funding_round_type\n",
       "secondary_market             32,600,000.0000\n",
       "private_equity               20,000,000.0000\n",
       "post_ipo_debt                19,950,000.0000\n",
       "post_ipo_equity              12,262,852.5000\n",
       "venture                       5,000,000.0000\n",
       "debt_financing                1,100,000.0000\n",
       "undisclosed                   1,018,680.0000\n",
       "angel                           400,000.0000\n",
       "seed                            275,000.0000\n",
       "convertible_note                272,000.0000\n",
       "grant                           201,684.0000\n",
       "product_crowdfunding            183,915.0000\n",
       "equity_crowdfunding             100,000.0000\n",
       "non_equity_assistance            60,000.0000\n",
       "Name: raised_amount_usd, dtype: float64"
      ]
     },
     "execution_count": 7,
     "metadata": {},
     "output_type": "execute_result"
    }
   ],
   "source": [
    "# medians\n",
    "master_frame.groupby('funding_round_type')['raised_amount_usd'].median().sort_values(ascending=False)\n"
   ]
  },
  {
   "cell_type": "code",
   "execution_count": 8,
   "metadata": {},
   "outputs": [],
   "source": [
    "import matplotlib.pyplot as plt\n",
    "# the commonly used alias for seaborn is sns\n",
    "import seaborn as sns\n",
    "# set a seaborn style of your taste\n",
    "sns.set_style(\"whitegrid\")"
   ]
  },
  {
   "cell_type": "code",
   "execution_count": 10,
   "metadata": {},
   "outputs": [
    {
     "data": {
      "image/png": "[encoded data removed]",
      "text/plain": [
       "<Figure size 720x576 with 1 Axes>"
      ]
     },
     "metadata": {
      "needs_background": "light"
     },
     "output_type": "display_data"
    }
   ],
   "source": [
    "# bar plot with default statistic=mean\n",
    "plt.figure(figsize=(10, 8))\n",
    "sns.barplot(x='funding_round_type', y='raised_amount_usd', data=master_frame)\n",
    "plt.axhline(y=5000000, linewidth=2, color = 'k')\n",
    "plt.axhline(y=15000000, linewidth=2, color = 'k')\n",
    "plt.show()"
   ]
  },
  {
   "cell_type": "code",
   "execution_count": 13,
   "metadata": {},
   "outputs": [
    {
     "data": {
      "text/plain": [
       "funding_round_type\n",
       "private_equity        20,000,000.0000\n",
       "venture                5,000,000.0000\n",
       "angel                    400,000.0000\n",
       "seed                     275,000.0000\n",
       "Name: raised_amount_usd, dtype: float64"
      ]
     },
     "execution_count": 13,
     "metadata": {},
     "output_type": "execute_result"
    }
   ],
   "source": [
    "# master frame to only contain the 4 type of funding (['venture', 'angel', 'seed', 'private_equity']) rounds\n",
    "master_frame = master_frame[master_frame['funding_round_type'].isin(['venture', 'angel', 'seed', 'private_equity'])]\n",
    "# median of master frame\n",
    "master_frame.groupby('funding_round_type')['raised_amount_usd'].median().sort_values(ascending=False)\n"
   ]
  },
  {
   "cell_type": "code",
   "execution_count": 14,
   "metadata": {
    "scrolled": false
   },
   "outputs": [
    {
     "data": {
      "image/png": "[encoded data removed]",
      "text/plain": [
       "<Figure size 720x576 with 1 Axes>"
      ]
     },
     "metadata": {
      "needs_background": "light"
     },
     "output_type": "display_data"
    }
   ],
   "source": [
    "# bar plot with default statistic=mean\n",
    "plt.figure(figsize=(10, 8))\n",
    "sns.barplot(x='funding_round_type', y='raised_amount_usd', data=master_frame)\n",
    "plt.axhline(y=5000000, linewidth=2, color = 'k')\n",
    "plt.axhline(y=15000000, linewidth=2, color = 'k')\n",
    "plt.show()"
   ]
  },
  {
   "cell_type": "code",
   "execution_count": 16,
   "metadata": {},
   "outputs": [],
   "source": [
    "###################################     6.1 ###################################\n",
    "\n",
    "#Checkpoint 6: Plots\n",
    "    \n",
    "#A plot showing the fraction of total investments (globally) \n",
    "#in venture, seed, and private equity, and the average amount of investment in each funding type. \n",
    "# This chart should make it clear that a certain funding type (FT) is best suited for Spark Funds.\n"
   ]
  },
  {
   "cell_type": "code",
   "execution_count": 27,
   "metadata": {},
   "outputs": [
    {
     "data": {
      "image/png": "[encoded data removed]",
      "text/plain": [
       "<Figure size 864x432 with 2 Axes>"
      ]
     },
     "metadata": {
      "needs_background": "light"
     },
     "output_type": "display_data"
    }
   ],
   "source": [
    "plt.figure(figsize=(12, 6))\n",
    "plt.subplot(1, 2, 1)\n",
    "sns.countplot(x=\"funding_round_type\", data=master_frame)\n",
    "plt.title(\"# of Investments\")\n",
    "plt.subplot(1, 2, 2)\n",
    "sns.barplot(y='raised_amount_usd', x=\"funding_round_type\", data=master_frame, estimator=np.mean)\n",
    "plt.title(\"Average\")\n",
    "plt.axhline(y=5000000, linewidth=2, color = 'k')\n",
    "plt.axhline(y=15000000, linewidth=2, color = 'k')\n",
    "plt.show()"
   ]
  },
  {
   "cell_type": "code",
   "execution_count": 17,
   "metadata": {},
   "outputs": [],
   "source": [
    "####################################################    End Check Point 2 #############################################"
   ]
  },
  {
   "cell_type": "code",
   "execution_count": null,
   "metadata": {},
   "outputs": [],
   "source": []
  }
 ],
 "metadata": {
  "kernelspec": {
   "display_name": "Python 3",
   "language": "python",
   "name": "python3"
  },
  "language_info": {
   "codemirror_mode": {
    "name": "ipython",
    "version": 3
   },
   "file_extension": ".py",
   "mimetype": "text/x-python",
   "name": "python",
   "nbconvert_exporter": "python",
   "pygments_lexer": "ipython3",
   "version": "3.7.3"
  }
 },
 "nbformat": 4,
 "nbformat_minor": 2
}
